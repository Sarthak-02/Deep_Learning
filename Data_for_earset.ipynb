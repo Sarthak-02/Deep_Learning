{
 "cells": [
  {
   "cell_type": "code",
   "execution_count": 1,
   "metadata": {
    "collapsed": true
   },
   "outputs": [],
   "source": [
    "import os\n",
    "import numpy as np\n",
    "import cv2"
   ]
  },
  {
   "cell_type": "code",
   "execution_count": 2,
   "metadata": {
    "collapsed": true
   },
   "outputs": [],
   "source": [
    "X_train =[]\n",
    "X_test=[]\n",
    "Y_train = []\n",
    "Y_test=[]"
   ]
  },
  {
   "cell_type": "code",
   "execution_count": 16,
   "metadata": {
    "collapsed": false
   },
   "outputs": [
    {
     "data": {
      "text/plain": [
       "True"
      ]
     },
     "execution_count": 16,
     "metadata": {},
     "output_type": "execute_result"
    }
   ],
   "source": [
    "count=0\n",
    "with open(\"/Users/sarthakgupta/Desktop/rightrain.txt\") as ins:\n",
    "    a=[]\n",
    "    for line in ins:\n",
    "        a.append(int(line[:-1]))\n",
    "        count+=1\n",
    "with open(\"/Users/sarthakgupta/Desktop/leftrain.txt\") as ins:\n",
    "    a=[]\n",
    "    for line in ins:\n",
    "        count+=1\n",
    "        a.append(int(line[:-1]))\n"
   ]
  },
  {
   "cell_type": "code",
   "execution_count": 18,
   "metadata": {
    "collapsed": false
   },
   "outputs": [
    {
     "name": "stdout",
     "output_type": "stream",
     "text": [
      "001\n",
      "002\n",
      "003\n",
      "004\n",
      "005\n",
      "006\n",
      "007\n",
      "008\n",
      "009\n",
      "010\n",
      "011\n",
      "012\n",
      "013\n",
      "014\n",
      "015\n",
      "016\n",
      "017\n",
      "018\n",
      "019\n",
      "020\n",
      "021\n",
      "022\n",
      "023\n",
      "024\n",
      "025\n",
      "026\n",
      "027\n",
      "028\n",
      "029\n",
      "030\n",
      "031\n",
      "032\n",
      "033\n",
      "034\n",
      "035\n",
      "036\n",
      "037\n",
      "038\n",
      "039\n",
      "040\n",
      "041\n",
      "042\n",
      "043\n",
      "044\n",
      "045\n",
      "046\n",
      "047\n",
      "048\n",
      "049\n",
      "050\n",
      "051\n",
      "052\n",
      "053\n",
      "054\n",
      "055\n",
      "056\n",
      "057\n",
      "058\n",
      "059\n",
      "060\n",
      "061\n",
      "062\n",
      "063\n",
      "064\n",
      "065\n",
      "066\n",
      "067\n",
      "068\n",
      "069\n",
      "070\n",
      "071\n",
      "072\n",
      "073\n",
      "074\n",
      "075\n",
      "076\n",
      "077\n",
      "078\n",
      "079\n",
      "080\n",
      "081\n",
      "082\n",
      "083\n",
      "084\n",
      "085\n",
      "086\n",
      "087\n",
      "088\n",
      "089\n",
      "090\n",
      "091\n",
      "092\n",
      "093\n",
      "094\n",
      "095\n",
      "096\n",
      "097\n",
      "098\n",
      "099\n",
      "100\n",
      "1000\n"
     ]
    }
   ],
   "source": [
    "count=0\n",
    "parent_list = os.listdir(\"/Users/sarthakgupta/Desktop/awe\")\n",
    "for parent in parent_list:\n",
    "    if parent != '.DS_Store':\n",
    "        print(parent)\n",
    "        child_list = os.listdir(\"/Users/sarthakgupta/Desktop/awe/\"+parent)\n",
    "        \n",
    "        for child in child_list:\n",
    "            if child != 'annotations.json':\n",
    "                count+=1\n",
    "                if count in a:\n",
    "                    image = cv2.imread(\"/Users/sarthakgupta/Desktop/awe/\"+parent+\"/\"+child,0)\n",
    "                    image=cv2.resize(image,(128,128))\n",
    "                    x_train=np.array(image.flatten())\n",
    "                    x_train=x_train.reshape(-1,1,128,128)\n",
    "                    X_train = np.append(X_train,x_train)\n",
    "                \n",
    "                \n",
    "print(count)             "
   ]
  },
  {
   "cell_type": "code",
   "execution_count": 23,
   "metadata": {
    "collapsed": false
   },
   "outputs": [
    {
     "name": "stdout",
     "output_type": "stream",
     "text": [
      "(320, 1, 128, 128)\n"
     ]
    }
   ],
   "source": [
    "X_train = X_train.reshape(-1,1,128,128)\n",
    "print(X_train.shape)"
   ]
  },
  {
   "cell_type": "code",
   "execution_count": null,
   "metadata": {
    "collapsed": true
   },
   "outputs": [],
   "source": []
  }
 ],
 "metadata": {
  "anaconda-cloud": {},
  "kernelspec": {
   "display_name": "Python [conda root]",
   "language": "python",
   "name": "conda-root-py"
  },
  "language_info": {
   "codemirror_mode": {
    "name": "ipython",
    "version": 3
   },
   "file_extension": ".py",
   "mimetype": "text/x-python",
   "name": "python",
   "nbconvert_exporter": "python",
   "pygments_lexer": "ipython3",
   "version": "3.5.2"
  }
 },
 "nbformat": 4,
 "nbformat_minor": 1
}
